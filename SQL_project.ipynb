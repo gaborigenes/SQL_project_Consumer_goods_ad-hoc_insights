{
  "nbformat": 4,
  "nbformat_minor": 0,
  "metadata": {
    "colab": {
      "provenance": [],
      "authorship_tag": "ABX9TyMIwV+hGWyzM9UgjHaijAWk",
      "include_colab_link": true
    },
    "kernelspec": {
      "name": "python3",
      "display_name": "Python 3"
    },
    "language_info": {
      "name": "python"
    }
  },
  "cells": [
    {
      "cell_type": "markdown",
      "metadata": {
        "id": "view-in-github",
        "colab_type": "text"
      },
      "source": [
        "<a href=\"https://colab.research.google.com/github/gaborigenes/SQL_project_Consumer_goods_ad-hoc_insights/blob/main/SQL_project.ipynb\" target=\"_parent\"><img src=\"https://colab.research.google.com/assets/colab-badge.svg\" alt=\"Open In Colab\"/></a>"
      ]
    },
    {
      "cell_type": "markdown",
      "source": [
        "database utilizado disponible en:\n",
        "https://codebasics.io/challenge/codebasics-resume-project-challenge/7"
      ],
      "metadata": {
        "id": "wVM27L5GVw3D"
      }
    },
    {
      "cell_type": "markdown",
      "source": [
        "1. Provide the list of markets in which customer \"Atliq Exclusive\" operates its business in the APAC region.\n",
        "\n",
        "    SELECT DISTINCT market\n",
        "    FROM dim_customer\n",
        "    WHERE customer = 'Atliq Exclusive' AND region = 'APAC';\n",
        "\n",
        "2. What is the percentage of unique product increase in 2021 vs. 2020? The\n",
        "-- final output contains these fields, unique_products_2020 unique_products_2021 percentage_chg\n",
        "\n",
        "\n",
        "\n",
        "    WITH\n",
        "    unique_products_2020 AS (\n",
        "        SELECT COUNT(DISTINCT m.product_code) AS count\n",
        "        FROM fact_manufacturing_cost m\n",
        "        WHERE m.cost_year =2020\n",
        "    ),\n",
        "    unique_products_2021 AS (\n",
        "        SELECT COUNT(DISTINCT m.product_code) AS count\n",
        "        FROM fact_manufacturing_cost m\n",
        "        WHERE m.cost_year = 2021\n",
        "    )\n",
        "    SELECT\n",
        "        (SELECT count FROM unique_products_2020) AS unique_products_2020,\n",
        "        (SELECT count FROM unique_products_2021) AS unique_products_2021,\n",
        "        ROUND(\n",
        "      ((SELECT count FROM unique_products_2021) - (SELECT count FROM unique_products_2020))*100.0/\n",
        "      (SELECT count FROM unique_products_2020),2) AS percentage_chg;\n"
      ],
      "metadata": {
        "id": "xZQG784qo5Ll"
      }
    },
    {
      "cell_type": "markdown",
      "source": [
        "3. Provide a report with all the unique product counts for each segment and\n",
        "sort them in descending order of product counts. The final output contains\n",
        "2 fields,\n",
        "\n",
        "- segment\n",
        "- product_count\n",
        "\n",
        "\n",
        "    SELECT\tsegment,\n",
        "\t\tCOUNT(DISTINCT product_code) AS product_count\n",
        "    FROM dim_product\n",
        "    GROUP BY segment\n",
        "    ORDER BY product_count DESC\n",
        "\n",
        "4. Follow-up: Which segment had the most increase in unique products in\n",
        "2021 vs 2020? The final output contains these fields,\n",
        "- segment\n",
        "- product_count_2020\n",
        "- product_count_2021\n",
        "- difference\n",
        "\n",
        "\n",
        "      WITH product_count_2020 AS(\n",
        "      SELECT    segment,\n",
        "        COUNT(DISTINCT p.product_code) AS count2020\n",
        "      FROM dim_product p\n",
        "      INNER JOIN fact_manufacturing_cost m ON p.product_code=m.product_code\n",
        "      WHERE m.cost_year='2020'\n",
        "      GROUP BY segment\n",
        "    ),\n",
        "    product_count_2021 AS(\n",
        "      SELECT    segment,\n",
        "        COUNT(DISTINCT p.product_code) AS count2021\n",
        "      FROM dim_product p\n",
        "      INNER JOIN fact_manufacturing_cost m ON p.product_code=m.product_code\n",
        "      WHERE m.cost_year='2021'\n",
        "      GROUP BY segment\n",
        "    )\n",
        "\n",
        "    SELECT\n",
        "      COALESCE(p2020.segment, p2021.segment) AS segment,\n",
        "      p2020.count2020 AS product_count_2020,\n",
        "      p2021.count2021 AS product_count_2021,\n",
        "      (p2021.count2021-p2020.count2020) AS difference\n",
        "    FROM product_count_2020 p2020\n",
        "    FULL OUTER JOIN product_count_2021 p2021 ON p2020.segment = p2021.segment;"
      ],
      "metadata": {
        "id": "uFAC16TXKvs7"
      }
    },
    {
      "cell_type": "markdown",
      "source": [
        "5. Get the products that have the highest and lowest manufacturing costs.The final output should contain these fields:\n",
        "- product_code, product\n",
        "- manufacturing_cost\n",
        "\n",
        "      WITH highest AS(\n",
        "      SELECT m.product_code, p.product, m.manufacturing_cost\n",
        "      FROM fact_manufacturing_cost m\n",
        "      JOIN dim_product p ON p.product_code = m.product_code\n",
        "      WHERE manufacturing_cost = (SELECT max(manufacturing_cost) FROM fact_manufacturing_cost)\n",
        "      ),\n",
        "\n",
        "    lowest AS(\n",
        "      SELECT m.product_code, p.product, m.manufacturing_cost\n",
        "      FROM fact_manufacturing_cost m\n",
        "      JOIN dim_product p ON p.product_code = m.product_code\n",
        "      WHERE manufacturing_cost = (SELECT min(manufacturing_cost) FROM fact_manufacturing_cost)\n",
        "      )\n",
        "\n",
        "    SELECT * from highest\n",
        "    UNION\n",
        "    SELECT * FROM LOWEST;"
      ],
      "metadata": {
        "id": "au418_aQmS60"
      }
    },
    {
      "cell_type": "markdown",
      "source": [
        "6. Generate a report which contains the top 5 customers who received an average high pre_invoice_discount_pct\n",
        "--for the fiscal year 2021 and in the Indian market. The final output contains these fields:\n",
        "--customer_code, customer, average_discount_percentage\n",
        "\n",
        "    SELECT TOP 5\n",
        "        c.customer_code,\n",
        "        c.customer,\n",
        "        AVG(d.pre_invoice_discount_pct) AS average_discount_percentage\n",
        "    FROM fact_pre_invoice_deductions d\n",
        "    JOIN dim_customer c ON d.customer_code = c.customer_code\n",
        "    WHERE fiscal_year = '2021' AND market= 'india'\n",
        "    GROUP BY c.customer_code, c.customer\n",
        "    ORDER BY average_discount_percentage DESC;"
      ],
      "metadata": {
        "id": "RPWfthkMqWLV"
      }
    },
    {
      "cell_type": "markdown",
      "source": [
        "7. Get the complete report of the Gross sales amount for the customer “Atliq Exclusive” for each month.\n",
        "--This analysis helps to get an idea of low and high-performing months and take strategic decisions.\n",
        "--The final report contains these columns:Month,Year,Gross sales Amount\n",
        "\n",
        "--gross_sales = sold_qty*gross_price\n",
        "\n",
        "    SELECT\n",
        "        DATENAME(MONTH, s.date) AS month,\n",
        "        YEAR(s.date) AS year,\n",
        "        ROUND(SUM(s.sold_quantity * p.gross_price)/1000000,2) AS gross_sales_amount\n",
        "    FROM fact_sales_monthly s\n",
        "    JOIN fact_gross_price p ON s.product_code = p.product_code\n",
        "    JOIN dim_customer c ON c.customer_code = s.customer_code\n",
        "    WHERE c.customer = 'Atliq Exclusive'\n",
        "    GROUP BY YEAR(s.date), MONTH(s.date), DATENAME(MONTH, s.date)\n",
        "    ORDER BY year, MONTH(s.date);"
      ],
      "metadata": {
        "id": "H0iPaEOfsfmq"
      }
    },
    {
      "cell_type": "markdown",
      "source": [
        "8. In which quarter of 2020, got the maximum total_sold_quantity?\n",
        "--The finaloutput contains these fields sorted by the total_sold_quantity:\n",
        "--Quarter\n",
        "--total_sold_quantity\n",
        "\n",
        "\n",
        "\n",
        "    SELECT\n",
        "        CASE\n",
        "            WHEN date BETWEEN '2019-09-01' AND '2019-11-30' THEN 1\n",
        "            WHEN date BETWEEN '2019-12-01' AND '2020-02-29' THEN 2\n",
        "            WHEN date BETWEEN '2020-03-01' AND '2020-05-31' THEN 3\n",
        "            WHEN date BETWEEN '2020-06-01' AND '2020-08-31' THEN 4\n",
        "        END AS quarters,\n",
        "        SUM(sold_quantity) AS total_sold_quantity\n",
        "    FROM fact_sales_monthly\n",
        "    WHERE fiscal_year = 2020\n",
        "    GROUP BY\n",
        "        CASE\n",
        "            WHEN date BETWEEN '2019-09-01' AND '2019-11-30' THEN 1\n",
        "            WHEN date BETWEEN '2019-12-01' AND '2020-02-29' THEN 2\n",
        "            WHEN date BETWEEN '2020-03-01' AND '2020-05-31' THEN 3\n",
        "            WHEN date BETWEEN '2020-06-01' AND '2020-08-31' THEN 4\n",
        "        END\n",
        "    ORDER BY quarters"
      ],
      "metadata": {
        "id": "4rpCHj_7DnaO"
      }
    },
    {
      "cell_type": "markdown",
      "source": [
        "9. Which channel helped to bring more gross sales in the fiscal year 2021 and the percentage of contribution?\n",
        "--The final output contains these fields: channel,gross_sales_mln,percentage\n",
        "\n",
        "-- gross_sales = sold_qty*gross_price\n",
        "\n",
        "    SELECT\n",
        "      c.channel,\n",
        "      SUM(s.sold_quantity*p.gross_price) AS gross_sale_mln,\n",
        "      ROUND(SUM(s.sold_quantity*p.gross_price)/\n",
        "        (SELECT SUM(s2.sold_quantity*p2.gross_price)\n",
        "        FROM fact_sales_monthly s2\n",
        "        JOIN fact_gross_price p2 ON s2.product_code = p2.product_code\n",
        "        WHERE s2.fiscal_year='2021')*100,2) AS Percentage\n",
        "    FROM fact_sales_monthly s\n",
        "    JOIN fact_gross_price p ON s.product_code=p.product_code\n",
        "    JOIN dim_customer c ON c.customer_code=s.customer_code\n",
        "    WHERE s.fiscal_year='2021'\n",
        "    GROUP BY c.channel\n",
        "    ORDER BY Percentage DESC;"
      ],
      "metadata": {
        "id": "f8GPROrcSD1i"
      }
    },
    {
      "cell_type": "markdown",
      "source": [
        "10. Get the Top 3 products in each division that have a high total_sold_quantity in the fiscal_year 2021?\n",
        "--The final output contains these fields: division,product_code,product,total_sold_quantity,rank_order\n",
        "\n",
        "    WITH product_sales AS(\n",
        "    SELECT\n",
        "      p.division,\n",
        "      p.product_code,\n",
        "      p.product,\n",
        "      sum(CAST(s.sold_quantity AS INT)) AS total_sold_quantity,\n",
        "      RANK () OVER (PARTITION BY p.division ORDER BY SUM(CAST(s.sold_quantity AS DECIMAL(18,2))) DESC) AS rank_order\n",
        "    FROM dim_product p\n",
        "    JOIN fact_sales_monthly s ON p.product_code = s.product_code\n",
        "    WHERE fiscal_year=2021\n",
        "    GROUP BY P.division, p.product_code, p.product\n",
        "    )\n",
        "\n",
        "    SELECT\n",
        "      division,\n",
        "      product_code,\n",
        "      product,\n",
        "      total_sold_quantity,\n",
        "      rank_order\n",
        "    FROM product_sales\n",
        "    WHERE rank_order <=3\n",
        "    ORDER BY division, rank_order;\n"
      ],
      "metadata": {
        "id": "f5X1fRsNkSBd"
      }
    },
    {
      "cell_type": "code",
      "execution_count": null,
      "metadata": {
        "id": "7J3F1f7aVkq3"
      },
      "outputs": [],
      "source": []
    },
    {
      "cell_type": "code",
      "source": [],
      "metadata": {
        "id": "H3ImdCnOmieA"
      },
      "execution_count": null,
      "outputs": []
    }
  ]
}